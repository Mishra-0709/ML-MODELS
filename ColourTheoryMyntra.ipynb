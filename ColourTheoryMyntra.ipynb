{
  "nbformat": 4,
  "nbformat_minor": 0,
  "metadata": {
    "colab": {
      "provenance": [],
      "include_colab_link": true
    },
    "kernelspec": {
      "name": "python3",
      "display_name": "Python 3"
    },
    "language_info": {
      "name": "python"
    }
  },
  "cells": [
    {
      "cell_type": "markdown",
      "metadata": {
        "id": "view-in-github",
        "colab_type": "text"
      },
      "source": [
        "<a href=\"https://colab.research.google.com/github/Mishra-0709/ML-MODELS/blob/main/ColourTheoryMyntra.ipynb\" target=\"_parent\"><img src=\"https://colab.research.google.com/assets/colab-badge.svg\" alt=\"Open In Colab\"/></a>"
      ]
    },
    {
      "cell_type": "markdown",
      "source": [
        "Data Preparation"
      ],
      "metadata": {
        "id": "tWf_gHigLDLw"
      }
    },
    {
      "cell_type": "code",
      "execution_count": 2,
      "metadata": {
        "id": "e1Fn7i2dLClw",
        "colab": {
          "base_uri": "https://localhost:8080/"
        },
        "outputId": "e5d6af0f-6076-438c-c5ca-5d65b156cd79"
      },
      "outputs": [
        {
          "output_type": "stream",
          "name": "stdout",
          "text": [
            "       id    label\n",
            "0  168468  \\nskirt\n",
            "1   20751  \\nshirt\n",
            "2  184291  \\ndress\n",
            "3   63239  \\npants\n",
            "4  110606  \\nskirt\n",
            "       id    label\n",
            "0  185218  \\npants\n",
            "1   45639    \\nhat\n",
            "2     449  \\ndress\n",
            "3   33441  \\npants\n",
            "4   87956    \\nhat\n"
          ]
        }
      ],
      "source": [
        "import numpy as np\n",
        "import pandas as pd\n",
        "\n",
        "# Load the trainval.txt and test.txt files\n",
        "trainval_data = pd.read_csv('trainval.txt', header=None, names=['id'])\n",
        "test_data = pd.read_csv('test.txt', header=None, names=['id'])\n",
        "\n",
        "# Load the labels.txt file\n",
        "with open('labels.txt', 'r') as file:\n",
        "    labels = file.read().split(',')\n",
        "\n",
        "# Create a mapping from IDs to labels (for demonstration purposes)\n",
        "# This mapping is assumed; you would have actual label data in a real scenario\n",
        "np.random.seed(42)\n",
        "trainval_data['label'] = np.random.choice(labels, len(trainval_data))\n",
        "test_data['label'] = np.random.choice(labels, len(test_data))\n",
        "\n",
        "# Display the data\n",
        "print(trainval_data.head())\n",
        "print(test_data.head())"
      ]
    },
    {
      "cell_type": "markdown",
      "source": [
        "Skin Tone Detection"
      ],
      "metadata": {
        "id": "INqLOnn1LJU8"
      }
    },
    {
      "cell_type": "code",
      "source": [
        "import tensorflow as tf\n",
        "from tensorflow.keras.applications import MobileNetV2\n",
        "from tensorflow.keras.layers import Dense, GlobalAveragePooling2D\n",
        "from tensorflow.keras.models import Model\n",
        "from tensorflow.keras.preprocessing.image import ImageDataGenerator, load_img, img_to_array\n",
        "from tensorflow.keras.utils import Sequence\n",
        "import os\n",
        "import numpy as np\n",
        "\n",
        "# Load labels from labels.txt\n",
        "with open('labels.txt') as f:\n",
        "    labels = f.read().split(',')\n",
        "num_classes = len(labels)\n",
        "\n",
        "# Load training and validation IDs from trainval.txt\n",
        "with open('trainval.txt') as f:\n",
        "    trainval_ids = f.read().splitlines()\n",
        "\n",
        "# Load test IDs from test.txt\n",
        "with open('test.txt') as f:\n",
        "    test_ids = f.read().splitlines()\n",
        "\n",
        "# Define the paths to the image directories (update these paths as necessary)\n",
        "trainval_dir = 'path_to_trainval_images'\n",
        "test_dir = 'path_to_test_images'\n",
        "\n",
        "# Print statements for debugging\n",
        "print(f\"Trainval directory: {trainval_dir}\")\n",
        "print(f\"Test directory: {test_dir}\")\n",
        "print(f\"Trainval directory exists: {os.path.exists(trainval_dir)}\")\n",
        "print(f\"Test directory exists: {os.path.exists(test_dir)}\")\n",
        "\n",
        "# Custom data generator\n",
        "class CustomDataGenerator(Sequence):\n",
        "    def __init__(self, image_dir, image_ids, labels, batch_size=32, target_size=(224, 224), is_training=True, validation_split=0.2):\n",
        "        self.image_dir = image_dir\n",
        "        self.image_ids = image_ids\n",
        "        self.labels = labels\n",
        "        self.batch_size = batch_size\n",
        "        self.target_size = target_size\n",
        "        self.is_training = is_training\n",
        "        self.validation_split = validation_split\n",
        "        self.image_data_generator = ImageDataGenerator(rescale=1./255, validation_split=validation_split)\n",
        "\n",
        "        if is_training:\n",
        "            self.image_ids = self.image_ids[:int(len(self.image_ids) * (1 - validation_split))]\n",
        "        else:\n",
        "            self.image_ids = self.image_ids[int(len(self.image_ids) * (1 - validation_split)):]\n",
        "\n",
        "    def __len__(self):\n",
        "        return int(np.ceil(len(self.image_ids) / self.batch_size))\n",
        "\n",
        "    def __getitem__(self, index):\n",
        "        batch_ids = self.image_ids[index * self.batch_size:(index + 1) * self.batch_size]\n",
        "        images = []\n",
        "        image_labels = []\n",
        "\n",
        "        for img_id in batch_ids:\n",
        "            img_path = os.path.join(self.image_dir, f\"{img_id}.jpg\")\n",
        "            if os.path.exists(img_path):\n",
        "                img = load_img(img_path, target_size=self.target_size)\n",
        "                img = img_to_array(img) / 255.0\n",
        "                images.append(img)\n",
        "                img_label_index = self.labels.index(img_id.split('_')[0])  # Assuming label is part of the file name\n",
        "                image_labels.append(tf.keras.utils.to_categorical(img_label_index, num_classes=num_classes))\n",
        "\n",
        "        return np.array(images), np.array(image_labels)\n",
        "\n",
        "# Create the data generators\n",
        "train_generator = CustomDataGenerator(trainval_dir, trainval_ids, labels, is_training=True)\n",
        "validation_generator = CustomDataGenerator(trainval_dir, trainval_ids, labels, is_training=False)\n",
        "\n",
        "# Load the pre-trained MobileNetV2 model, excluding the top layers\n",
        "base_model = MobileNetV2(weights='imagenet', include_top=False, input_shape=(224, 224, 3))\n",
        "\n",
        "# Add new top layers for classification\n",
        "x = base_model.output\n",
        "x = GlobalAveragePooling2D()(x)\n",
        "x = Dense(1024, activation='relu')(x)\n",
        "predictions = Dense(num_classes, activation='softmax')(x)\n",
        "\n",
        "# Create the full model\n",
        "model = Model(inputs=base_model.input, outputs=predictions)\n",
        "\n",
        "# Freeze the base model layers\n",
        "for layer in base_model.layers:\n",
        "    layer.trainable = False\n",
        "\n",
        "# Compile the model\n",
        "model.compile(optimizer='adam', loss='categorical_crossentropy', metrics=['accuracy'])\n",
        "\n",
        "# Save the model\n",
        "model.save('skin_tone_model.h5')"
      ],
      "metadata": {
        "colab": {
          "base_uri": "https://localhost:8080/"
        },
        "id": "JVIrl6SHQWwO",
        "outputId": "07bf8247-5948-4a6b-85dd-68b3e8039999"
      },
      "execution_count": 5,
      "outputs": [
        {
          "output_type": "stream",
          "name": "stdout",
          "text": [
            "Trainval directory: path_to_trainval_images\n",
            "Test directory: path_to_test_images\n",
            "Trainval directory exists: False\n",
            "Test directory exists: False\n"
          ]
        },
        {
          "output_type": "stream",
          "name": "stderr",
          "text": [
            "/usr/local/lib/python3.10/dist-packages/keras/src/engine/training.py:3103: UserWarning: You are saving your model as an HDF5 file via `model.save()`. This file format is considered legacy. We recommend using instead the native Keras format, e.g. `model.save('my_model.keras')`.\n",
            "  saving_api.save_model(\n"
          ]
        }
      ]
    },
    {
      "cell_type": "markdown",
      "source": [
        "Color Theory Application"
      ],
      "metadata": {
        "id": "5-fYUaypLNjX"
      }
    },
    {
      "cell_type": "code",
      "source": [
        "# Define a color palette for each skin tone category\n",
        "color_palettes = {\n",
        "    'light': ['pastel pink', 'light blue', 'mint green'],\n",
        "    'medium': ['peach', 'olive green', 'mustard'],\n",
        "    'dark': ['deep red', 'royal blue', 'emerald green']\n",
        "}\n",
        "\n",
        "# Function to get recommended colors based on skin tone\n",
        "def get_recommended_colors(skin_tone):\n",
        "    return color_palettes.get(skin_tone, ['default color'])\n",
        "\n",
        "# Example usage\n",
        "skin_tone = 'medium'\n",
        "recommended_colors = get_recommended_colors(skin_tone)\n",
        "print(f'Recommended colors for {skin_tone} skin tone: {recommended_colors}')"
      ],
      "metadata": {
        "id": "TxUq2US9LQBy",
        "colab": {
          "base_uri": "https://localhost:8080/"
        },
        "outputId": "a7c406b4-cc39-4b72-a684-9deb2f8d7fc0"
      },
      "execution_count": 6,
      "outputs": [
        {
          "output_type": "stream",
          "name": "stdout",
          "text": [
            "Recommended colors for medium skin tone: ['peach', 'olive green', 'mustard']\n"
          ]
        }
      ]
    },
    {
      "cell_type": "markdown",
      "source": [
        "Personalized Recommendation Engine"
      ],
      "metadata": {
        "id": "ZZCfvojcLR2t"
      }
    },
    {
      "cell_type": "code",
      "source": [
        "from sklearn.feature_extraction.text import TfidfVectorizer\n",
        "from sklearn.metrics.pairwise import linear_kernel\n",
        "\n",
        "# Sample user-item interaction data (for collaborative filtering)\n",
        "user_item_data = pd.DataFrame({\n",
        "    'user_id': [1, 1, 2, 2, 3, 3],\n",
        "    'item_id': [101, 102, 101, 103, 102, 104],\n",
        "    'rating': [5, 4, 5, 4, 4, 5]\n",
        "})\n",
        "\n",
        "# Sample item metadata (for content-based filtering)\n",
        "item_metadata = pd.DataFrame({\n",
        "    'item_id': [101, 102, 103, 104],\n",
        "    'description': ['red dress', 'blue jeans', 'green shirt', 'yellow skirt']\n",
        "})\n",
        "\n",
        "# Collaborative filtering (using user-item interactions)\n",
        "user_item_matrix = user_item_data.pivot(index='user_id', columns='item_id', values='rating').fillna(0)\n",
        "\n",
        "# Content-based filtering (using item descriptions)\n",
        "tf"
      ],
      "metadata": {
        "id": "j9h7n3RgLUaR",
        "colab": {
          "base_uri": "https://localhost:8080/"
        },
        "outputId": "a3429b41-892d-4386-885f-1d25cceaead5"
      },
      "execution_count": 7,
      "outputs": [
        {
          "output_type": "execute_result",
          "data": {
            "text/plain": [
              "<module 'tensorflow' from '/usr/local/lib/python3.10/dist-packages/tensorflow/__init__.py'>"
            ]
          },
          "metadata": {},
          "execution_count": 7
        }
      ]
    },
    {
      "cell_type": "markdown",
      "source": [],
      "metadata": {
        "id": "PIeTK3ReLWaE"
      }
    }
  ]
}